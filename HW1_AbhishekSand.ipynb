{
 "cells": [
  {
   "cell_type": "code",
   "execution_count": 1,
   "id": "c7ca6bf5",
   "metadata": {},
   "outputs": [],
   "source": [
    "import numpy as np\n",
    "import pandas as pd"
   ]
  },
  {
   "cell_type": "code",
   "execution_count": null,
   "id": "b28feae5",
   "metadata": {},
   "outputs": [],
   "source": [
    "#Section 1 -->"
   ]
  },
  {
   "cell_type": "code",
   "execution_count": 11,
   "id": "ec471afd",
   "metadata": {},
   "outputs": [
    {
     "data": {
      "text/plain": [
       "array([[1, 2, 3],\n",
       "       [4, 5, 6]])"
      ]
     },
     "execution_count": 11,
     "metadata": {},
     "output_type": "execute_result"
    }
   ],
   "source": [
    "#Question 1.1: Convert a Python list x=[[1,2,3],[4,5,6]] into a Numpy array.\n",
    "x=[[1,2,3],[4,5,6]]\n",
    "np.array(x)"
   ]
  },
  {
   "cell_type": "code",
   "execution_count": 34,
   "id": "f6616572",
   "metadata": {},
   "outputs": [
    {
     "data": {
      "text/plain": [
       "array([[1, 2],\n",
       "       [3, 4],\n",
       "       [5, 6]])"
      ]
     },
     "execution_count": 34,
     "metadata": {},
     "output_type": "execute_result"
    }
   ],
   "source": [
    "#Question 1.2: Use one line to create a 3x2 2D array with shape of (3,2), filled with 1-6\n",
    "np.arange(1,7).reshape(3,2)"
   ]
  },
  {
   "cell_type": "code",
   "execution_count": 39,
   "id": "1ad91a70",
   "metadata": {},
   "outputs": [
    {
     "name": "stdout",
     "output_type": "stream",
     "text": [
      "[  2   4   6   8  10  12  14  16  18  20  22  24  26  28  30  32  34  36\n",
      "  38  40  42  44  46  48  50  52  54  56  58  60  62  64  66  68  70  72\n",
      "  74  76  78  80  82  84  86  88  90  92  94  96  98 100]\n",
      "Mean is  51.0\n"
     ]
    }
   ],
   "source": [
    "#Question 1.3: Use one line to create an array of 2, 4, 6, 8, ..., 98, 100; and find the mean value.\n",
    "x=np.arange(2,101,2)\n",
    "print(x)\n",
    "print('Mean is ',np.mean(x))"
   ]
  },
  {
   "cell_type": "code",
   "execution_count": 2,
   "id": "48a5a838",
   "metadata": {},
   "outputs": [
    {
     "data": {
      "text/plain": [
       "(0.009489598996952897, 0.9605556690695605)"
      ]
     },
     "execution_count": 2,
     "metadata": {},
     "output_type": "execute_result"
    }
   ],
   "source": [
    "#Question 1.4: Create an 3x3x3 array filled with arbitrary float numbers; and find the minimum and maximum values.\n",
    "#x= np.random.random(size=(3,3,3))\n",
    "#print(x)\n",
    "#print('Min Value is',np.min(x))\n",
    "#print('Max Value is',np.max(x))\n",
    "\n",
    "np.random.random(size=(3,3,3)).min(),np.random.random(size=(3,3,3)).max()"
   ]
  },
  {
   "cell_type": "code",
   "execution_count": 35,
   "id": "960dc4ef",
   "metadata": {},
   "outputs": [
    {
     "data": {
      "text/plain": [
       "array([[10, 11, 12, 13],\n",
       "       [14, 15, 16, 17],\n",
       "       [18, 19, 20, 21]])"
      ]
     },
     "execution_count": 35,
     "metadata": {},
     "output_type": "execute_result"
    }
   ],
   "source": [
    "#Question 1.5: Create a 3x4 2D array filled with values from 10 to 21 (included).\n",
    "np.arange(10,22).reshape(3,4)"
   ]
  },
  {
   "cell_type": "code",
   "execution_count": 3,
   "id": "14e1fe01",
   "metadata": {},
   "outputs": [
    {
     "data": {
      "text/plain": [
       "array([ 5,  8, 11, 14, 17, 20, 23, 26, 29, 32])"
      ]
     },
     "execution_count": 3,
     "metadata": {},
     "output_type": "execute_result"
    }
   ],
   "source": [
    "#Question 1.6: Create a numpy array of length 10, starting from 5 and has a step of 3 between consecutive numbers.\n",
    "#np.arange(start=5,stop=35,step=3)\n",
    "Start=5\n",
    "Step=3\n",
    "Length=10\n",
    "ArrayEnd=(Length*Step)+Start\n",
    "np.arange(5,ArrayEnd,3)"
   ]
  },
  {
   "cell_type": "code",
   "execution_count": 69,
   "id": "8dddf8d4",
   "metadata": {},
   "outputs": [
    {
     "data": {
      "text/plain": [
       "400"
      ]
     },
     "execution_count": 69,
     "metadata": {},
     "output_type": "execute_result"
    }
   ],
   "source": [
    "#Question 1.7: Create a shape (10,10) array with arbitrary values; and find the memory size of this array.\n",
    "np.random.randint(20,size=(10,10)).itemsize*np.random.randint(20,size=(10,10)).size"
   ]
  },
  {
   "cell_type": "code",
   "execution_count": 49,
   "id": "bf741f0a",
   "metadata": {},
   "outputs": [
    {
     "data": {
      "text/plain": [
       "array([3, 1, 4, 4, 5, 0, 0, 8, 4, 6])"
      ]
     },
     "execution_count": 49,
     "metadata": {},
     "output_type": "execute_result"
    }
   ],
   "source": [
    "#Question 1.8: Create a 1-d array of size 10 with arbitrary values but the fifth value should be 5\n",
    "x=np.random.randint(10,size=10)\n",
    "x[4]=5\n",
    "x"
   ]
  },
  {
   "cell_type": "code",
   "execution_count": 50,
   "id": "246b4c41",
   "metadata": {},
   "outputs": [
    {
     "data": {
      "text/plain": [
       "(array([10, 11, 12, 13, 14, 15, 16, 17, 18, 19, 20, 21, 22, 23, 24, 25, 26,\n",
       "        27, 28, 29, 30, 31, 32, 33, 34, 35, 36, 37, 38, 39, 40, 41, 42, 43,\n",
       "        44, 45, 46, 47, 48, 49]),\n",
       " array([49, 48, 47, 46, 45, 44, 43, 42, 41, 40, 39, 38, 37, 36, 35, 34, 33,\n",
       "        32, 31, 30, 29, 28, 27, 26, 25, 24, 23, 22, 21, 20, 19, 18, 17, 16,\n",
       "        15, 14, 13, 12, 11, 10]))"
      ]
     },
     "execution_count": 50,
     "metadata": {},
     "output_type": "execute_result"
    }
   ],
   "source": [
    "#Question 1.9: Create an array with values ranging from 10 to 49 (included); and reverse it then (first element becomes last)\n",
    "\n",
    "np.arange(10,50),np.arange(49,9,-1)"
   ]
  },
  {
   "cell_type": "code",
   "execution_count": 11,
   "id": "e4fcbfa5",
   "metadata": {
    "scrolled": true
   },
   "outputs": [
    {
     "data": {
      "text/plain": [
       "(None,\n",
       " array([[0.22199317, 0.87073231],\n",
       "        [0.20671916, 0.91861091],\n",
       "        [0.48841119, 0.61174386]]))"
      ]
     },
     "execution_count": 11,
     "metadata": {},
     "output_type": "execute_result"
    }
   ],
   "source": [
    "#Question 1.10: Create an array of shape (3, 2) with random values from a uniform distribution over [0, 1) and confirm you can get the same value when you run it next time.\n",
    "\n",
    "np.random.seed(5),np.random.uniform(0,1,size=((3,2)))"
   ]
  },
  {
   "cell_type": "code",
   "execution_count": 10,
   "id": "a1241c87",
   "metadata": {},
   "outputs": [
    {
     "data": {
      "text/plain": [
       "array([[0., 1., 2., 3., 4.],\n",
       "       [0., 1., 2., 3., 4.],\n",
       "       [0., 1., 2., 3., 4.],\n",
       "       [0., 1., 2., 3., 4.],\n",
       "       [0., 1., 2., 3., 4.]])"
      ]
     },
     "execution_count": 10,
     "metadata": {},
     "output_type": "execute_result"
    }
   ],
   "source": [
    "#Question 1.11: Create a 5x5 matrix with row values ranging from 0 to 4\n",
    "\n",
    "np.zeros((5,5))+np.arange(5)"
   ]
  },
  {
   "cell_type": "code",
   "execution_count": 22,
   "id": "32a1228b",
   "metadata": {},
   "outputs": [
    {
     "name": "stdout",
     "output_type": "stream",
     "text": [
      "[[1. 1. 1. 1. 1.]\n",
      " [1. 1. 1. 1. 1.]\n",
      " [1. 1. 1. 1. 1.]\n",
      " [1. 1. 1. 1. 1.]\n",
      " [1. 1. 1. 1. 1.]]\n"
     ]
    },
    {
     "data": {
      "text/plain": [
       "array([[0., 0., 0., 0., 0., 0., 0.],\n",
       "       [0., 1., 1., 1., 1., 1., 0.],\n",
       "       [0., 1., 1., 1., 1., 1., 0.],\n",
       "       [0., 1., 1., 1., 1., 1., 0.],\n",
       "       [0., 1., 1., 1., 1., 1., 0.],\n",
       "       [0., 1., 1., 1., 1., 1., 0.],\n",
       "       [0., 0., 0., 0., 0., 0., 0.]])"
      ]
     },
     "execution_count": 22,
     "metadata": {},
     "output_type": "execute_result"
    }
   ],
   "source": [
    "#Question 1.12 Add a border (filled with 0's) around an existing array\n",
    "\n",
    "print(np.ones((5,5)))\n",
    "np.pad(np.ones((5,5)),pad_width=1)"
   ]
  },
  {
   "cell_type": "code",
   "execution_count": 4,
   "id": "0e50e7ea",
   "metadata": {},
   "outputs": [
    {
     "name": "stdout",
     "output_type": "stream",
     "text": [
      "[[1 0 0 0 0]\n",
      " [0 2 0 0 0]\n",
      " [0 0 3 0 0]\n",
      " [0 0 0 4 0]\n",
      " [0 0 0 0 5]]\n",
      "[[0 0 0 0 0]\n",
      " [1 0 0 0 0]\n",
      " [0 2 0 0 0]\n",
      " [0 0 3 0 0]\n",
      " [0 0 0 4 0]]\n"
     ]
    }
   ],
   "source": [
    "#Question 1.13  Create a 5x5 2-d array with values 1,2,3,4,5 on the diagonal (3 points)\n",
    "x=np.diag(np.array([1,2,3,4,5]),k=0)\n",
    "print(x)\n",
    "\n",
    "#Then, make 1,2,3,4 move below the diagonal:\n",
    "y=np.diag(x)\n",
    "z=np.diag(y,k=-1)\n",
    "a,b=np.hsplit(z,[5])\n",
    "d,e=np.vsplit(a,[5])\n",
    "print(d)"
   ]
  },
  {
   "cell_type": "code",
   "execution_count": 13,
   "id": "771fae14",
   "metadata": {},
   "outputs": [
    {
     "name": "stdout",
     "output_type": "stream",
     "text": [
      "[[1. 1. 1. 1. 1. 1. 1. 1. 1. 1.]\n",
      " [1. 1. 1. 1. 1. 1. 1. 1. 1. 1.]\n",
      " [1. 1. 1. 1. 1. 1. 1. 1. 1. 1.]\n",
      " [1. 1. 1. 1. 1. 1. 1. 1. 1. 1.]\n",
      " [1. 1. 1. 1. 1. 1. 1. 1. 1. 1.]\n",
      " [1. 1. 1. 1. 1. 1. 1. 1. 1. 1.]\n",
      " [1. 1. 1. 1. 1. 1. 1. 1. 1. 1.]\n",
      " [1. 1. 1. 1. 1. 1. 1. 1. 1. 1.]\n",
      " [1. 1. 1. 1. 1. 1. 1. 1. 1. 1.]\n",
      " [1. 1. 1. 1. 1. 1. 1. 1. 1. 1.]]\n"
     ]
    },
    {
     "data": {
      "text/plain": [
       "array([[1., 1., 1., 1., 1., 1., 1., 1., 1., 1.],\n",
       "       [1., 0., 0., 0., 0., 0., 0., 0., 0., 1.],\n",
       "       [1., 0., 0., 0., 0., 0., 0., 0., 0., 1.],\n",
       "       [1., 0., 0., 0., 0., 0., 0., 0., 0., 1.],\n",
       "       [1., 0., 0., 0., 0., 0., 0., 0., 0., 1.],\n",
       "       [1., 0., 0., 0., 0., 0., 0., 0., 0., 1.],\n",
       "       [1., 0., 0., 0., 0., 0., 0., 0., 0., 1.],\n",
       "       [1., 0., 0., 0., 0., 0., 0., 0., 0., 1.],\n",
       "       [1., 0., 0., 0., 0., 0., 0., 0., 0., 1.],\n",
       "       [1., 1., 1., 1., 1., 1., 1., 1., 1., 1.]])"
      ]
     },
     "execution_count": 13,
     "metadata": {},
     "output_type": "execute_result"
    }
   ],
   "source": [
    "#Question 1.14  Create a 10x10 2-d array with 1 (2 point) on the border and 0 inside (4 points).\n",
    "\n",
    "x=np.ones((10,10))\n",
    "print(x)\n",
    "x[1:-1,1:-1]=0\n",
    "x"
   ]
  },
  {
   "cell_type": "code",
   "execution_count": 7,
   "id": "ca1113a8",
   "metadata": {},
   "outputs": [
    {
     "name": "stdout",
     "output_type": "stream",
     "text": [
      "[10.97627008 14.30378733 12.05526752 10.89766366  8.47309599 12.91788226\n",
      "  8.75174423 17.83546002 19.27325521  7.66883038 15.83450076 10.5778984\n",
      " 11.36089122 18.51193277  1.42072116  1.74258599  0.40436795 16.65239691\n",
      " 15.56313502 17.40024296]\n"
     ]
    },
    {
     "data": {
      "text/plain": [
       "array([10, 14, 12, 10,  8, 12,  8, 17, 19,  7, 15, 10, 11, 18,  1,  1,  0,\n",
       "       16, 15, 17])"
      ]
     },
     "execution_count": 7,
     "metadata": {},
     "output_type": "execute_result"
    }
   ],
   "source": [
    "#Question 1.15 Extract the integer part of a random array of positive numbers using 2 different methods, and the result should be an integer array. \n",
    "\n",
    "np.random.seed(0)\n",
    "y=np.random.uniform(0,20,20)\n",
    "print(y)\n",
    "x=y.astype(int)\n",
    "x"
   ]
  },
  {
   "cell_type": "code",
   "execution_count": null,
   "id": "4e1fe67f",
   "metadata": {},
   "outputs": [],
   "source": [
    "#Section 2 -->"
   ]
  },
  {
   "cell_type": "code",
   "execution_count": 16,
   "id": "546ca0b8",
   "metadata": {},
   "outputs": [
    {
     "name": "stdout",
     "output_type": "stream",
     "text": [
      "8\n"
     ]
    }
   ],
   "source": [
    "#Question 2.1 Find the index of 5th repetition of number 1 in the given array x.\n",
    "\n",
    "import numpy as np\n",
    "x=np.array([1, 2, 1, 1, 3, 4, 3, 1, 1, 2, 1, 1, 2])\n",
    "a=np.where(x==1)\n",
    "b=np.array(a)\n",
    "print(b[0,4])"
   ]
  },
  {
   "cell_type": "code",
   "execution_count": 26,
   "id": "d2e328c4",
   "metadata": {},
   "outputs": [
    {
     "data": {
      "text/plain": [
       "[array([1, 2, 3, 4]), array([5, 6]), array([7, 8, 9])]"
      ]
     },
     "execution_count": 26,
     "metadata": {},
     "output_type": "execute_result"
    }
   ],
   "source": [
    "#Question 2.2 Use np.arange to get an array [1, 2, 3, ..., 9]. Split x into 3 sub-arrays, the length of each sub-array is 4, 2, and 3. \n",
    "\n",
    "x=np.arange(1,10)\n",
    "a=np.split(x,[4,6])\n",
    "a"
   ]
  },
  {
   "cell_type": "code",
   "execution_count": 12,
   "id": "95b95615",
   "metadata": {},
   "outputs": [
    {
     "data": {
      "text/plain": [
       "array([[[ 0,  1],\n",
       "        [ 4,  5],\n",
       "        [ 8,  9],\n",
       "        [12, 13]],\n",
       "\n",
       "       [[ 2,  3],\n",
       "        [ 6,  7],\n",
       "        [10, 11],\n",
       "        [14, 15]]])"
      ]
     },
     "execution_count": 12,
     "metadata": {},
     "output_type": "execute_result"
    }
   ],
   "source": [
    "#Question 2.3 Use np.arange to generate the 2D array and Use np.split to split the array into left and right halves.\n",
    "\n",
    "x=np.arange(16).reshape(4,4)\n",
    "np.abs(np.split(x,2,axis=1))"
   ]
  },
  {
   "cell_type": "code",
   "execution_count": 25,
   "id": "0e55b034",
   "metadata": {},
   "outputs": [
    {
     "name": "stdout",
     "output_type": "stream",
     "text": [
      "[[10 15]\n",
      " [25 30]]\n",
      "[[20]]\n"
     ]
    }
   ],
   "source": [
    "#Question 2.4 From given 2D array-Slicing to get the sub-array [[10,15], [25,30]] & Getting individual element value \"20\"\n",
    "\n",
    "x=np.array([[5,10,15],[20,25,30],[35,40,45]])\n",
    "a,b=np.hsplit(x,[1])\n",
    "c,d=np.vsplit(b,[2])\n",
    "print(c)\n",
    "p,q,r=np.vsplit(a,[1,2])\n",
    "print(q)\n",
    "\n",
    "#print(x[0:2,1:3])\n"
   ]
  },
  {
   "cell_type": "code",
   "execution_count": 87,
   "id": "520c99e5",
   "metadata": {},
   "outputs": [
    {
     "data": {
      "text/plain": [
       "array([[ 1,  2,  3,  7,  8,  9],\n",
       "       [ 4,  5,  6, 10, 11, 12]])"
      ]
     },
     "execution_count": 87,
     "metadata": {},
     "output_type": "execute_result"
    }
   ],
   "source": [
    "#Question 2.5 Concatenate\n",
    "\n",
    "x=np.array([[1,2,3],[4,5,6]])\n",
    "y=np.array([[7,8,9],[10,11,12]])\n",
    "np.concatenate((x,y),axis=1)"
   ]
  },
  {
   "cell_type": "code",
   "execution_count": 101,
   "id": "3ab9c409",
   "metadata": {},
   "outputs": [
    {
     "data": {
      "text/plain": [
       "array([0.66666667, 0.28571429, 0.22222222, 0.22222222, 0.11111111])"
      ]
     },
     "execution_count": 101,
     "metadata": {},
     "output_type": "execute_result"
    }
   ],
   "source": [
    "#Question 2.6 Compute the min/max (min is divided by max) for each row for a given 2d array, in which integer values range from 1 to 10 [1,10) and shape is (5,3).\n",
    "np.random.seed(9)\n",
    "x=np.random.randint(1,10,size=(5,3))\n",
    "x.min(axis=1)/x.max(axis=1)"
   ]
  },
  {
   "cell_type": "code",
   "execution_count": 6,
   "id": "86c736dd",
   "metadata": {},
   "outputs": [
    {
     "name": "stdout",
     "output_type": "stream",
     "text": [
      "Before Normalization:\n",
      "[[0.55094575 0.46108497 0.87526999 0.29568791 0.97372012]\n",
      " [0.92823571 0.42277704 0.09512635 0.60761149 0.96137145]\n",
      " [0.21831251 0.63924471 0.15897356 0.31477216 0.53820461]\n",
      " [0.70653196 0.26460185 0.86827947 0.43971479 0.08850106]\n",
      " [0.57526843 0.01649144 0.08678813 0.40029595 0.61456675]]\n",
      "After Normalization\n",
      "[[0.10669687 0.57449781 0.11347258 0.96185267 0.2301081 ]\n",
      " [1.         0.5312597  0.87552289 0.4441456  0.20917609]\n",
      " [0.7680899  0.68397618 0.62844064 0.36910364 0.28563194]\n",
      " [0.41334663 0.50363178 0.53982748 0.15885154 0.86114762]\n",
      " [0.68466056 0.90168945 0.50510068 0.21900313 0.        ]]\n"
     ]
    }
   ],
   "source": [
    "#Question 2.7 Normalize a 5x5 random matrix\n",
    "\n",
    "a=np.random.random((5,5))\n",
    "print(\"Before Normalization:\")\n",
    "print(a)\n",
    "maxi,mini=x.max(),x.min()\n",
    "b=(x-mini)/(maxi-mini)\n",
    "print(\"After Normalization\")\n",
    "print(b)"
   ]
  },
  {
   "cell_type": "code",
   "execution_count": 117,
   "id": "03950140",
   "metadata": {},
   "outputs": [
    {
     "data": {
      "text/plain": [
       "array([0, 1, 2, 3, 4, 5, 6, 7, 8, 9])"
      ]
     },
     "execution_count": 117,
     "metadata": {},
     "output_type": "execute_result"
    }
   ],
   "source": [
    "#Question 2.8 Convert 3 arrays into a 1d array\n",
    "\n",
    "a=np.arange(3)\n",
    "b=np.arange(3,7)\n",
    "c=np.arange(7,10)\n",
    "\n",
    "np.concatenate((a,b,c),axis=0)"
   ]
  },
  {
   "cell_type": "code",
   "execution_count": 41,
   "id": "dc276a03",
   "metadata": {},
   "outputs": [
    {
     "name": "stdout",
     "output_type": "stream",
     "text": [
      "[44 47 64 67 67  9 83 21 36 87 70 88 88 12 58 65 39 87 46 88]\n",
      "44\n",
      "47\n",
      "21\n",
      "36\n",
      "39\n",
      "46\n"
     ]
    }
   ],
   "source": [
    "#Question 2.9 Get all items between 15 and 55 from aa, math expression: [15,55]\n",
    "\n",
    "np.random.seed(0)\n",
    "x=np.random.randint(0,100,20)\n",
    "print(x)\n",
    "for i in range(x.size):\n",
    "    if(x[i]>=15 and x[i]<=55):\n",
    "        print (x[i])"
   ]
  },
  {
   "cell_type": "code",
   "execution_count": 51,
   "id": "f9256c30",
   "metadata": {},
   "outputs": [
    {
     "data": {
      "text/plain": [
       "(array([1, 3, 5, 7], dtype=int64),)"
      ]
     },
     "execution_count": 51,
     "metadata": {},
     "output_type": "execute_result"
    }
   ],
   "source": [
    "#Question 2.10 Get the positions where elements of a and b match.\n",
    "\n",
    "a=np.array([1,2,3,2,3,4,3,4,5,6])\n",
    "b=np.array([7,2,10,2,7,4,9,4,9,8])\n",
    "np.where(a==b)"
   ]
  },
  {
   "cell_type": "code",
   "execution_count": 134,
   "id": "05178196",
   "metadata": {},
   "outputs": [
    {
     "name": "stdout",
     "output_type": "stream",
     "text": [
      "[ 0 -1  2 -1  4 -1  6 -1  8 -1 10 -1 12 -1 14 -1 16 -1 18 -1]\n"
     ]
    }
   ],
   "source": [
    "#Question 2.11 Use arange() to create an array from 0 to 20 ( [0,20) ); replace all odd numbers with -1\n",
    "\n",
    "x=np.arange(0,20)\n",
    "i=1\n",
    "for i in x:\n",
    "    if(i%2!=0):\n",
    "        x[i]=-1\n",
    "print(x)"
   ]
  },
  {
   "cell_type": "code",
   "execution_count": 7,
   "id": "b027f0a0",
   "metadata": {},
   "outputs": [
    {
     "data": {
      "text/plain": [
       "array([[56, 46, 52, 60],\n",
       "       [33, 43, 59, 56],\n",
       "       [62, 36, 51, 52]])"
      ]
     },
     "execution_count": 7,
     "metadata": {},
     "output_type": "execute_result"
    }
   ],
   "source": [
    "#Question 2.12 Considering a four dimensions array (3,4,3,4) with the values 0-9 randomly, how to get sum over the last two axis at once?\n",
    "\n",
    "x=np.random.randint(10,size=((3,4,3,4)))\n",
    "x.sum(axis=3).sum(axis=2)\n"
   ]
  },
  {
   "cell_type": "code",
   "execution_count": null,
   "id": "4cc87687",
   "metadata": {},
   "outputs": [],
   "source": []
  }
 ],
 "metadata": {
  "kernelspec": {
   "display_name": "Python 3 (ipykernel)",
   "language": "python",
   "name": "python3"
  },
  "language_info": {
   "codemirror_mode": {
    "name": "ipython",
    "version": 3
   },
   "file_extension": ".py",
   "mimetype": "text/x-python",
   "name": "python",
   "nbconvert_exporter": "python",
   "pygments_lexer": "ipython3",
   "version": "3.9.12"
  }
 },
 "nbformat": 4,
 "nbformat_minor": 5
}
